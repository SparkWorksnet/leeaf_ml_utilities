{
 "cells": [
  {
   "cell_type": "code",
   "execution_count": 1,
   "metadata": {
    "collapsed": true,
    "ExecuteTime": {
     "end_time": "2023-05-29T10:59:47.916636Z",
     "start_time": "2023-05-29T10:59:47.913014Z"
    }
   },
   "outputs": [],
   "source": [
    "# DATASET PARAMETERS\n",
    "API_KEY = \"__FILL_IN_YOUR_API_KEY__\"\n",
    "PROJECT_NAME = \"__FILL_IN_YOUR_PROJECT_NAME__\"\n",
    "\n",
    "# YOLO PARAMETERS\n",
    "IM_SIZE = 640\n",
    "N_EPOCHS = 50  # you can lower this if you have a large dataset\n",
    "BATCH_SIZE = 2  # you can increase this if you have a large dataset, > 50 images, you can increase this to 4, >100 images you can increase this to 8\n",
    "MODEL = 'yolov8n-seg.pt'"
   ]
  },
  {
   "cell_type": "code",
   "execution_count": null,
   "outputs": [],
   "source": [
    "from trainyolo.client import Client, Project\n",
    "\n",
    "# init client\n",
    "client = Client(API_KEY)\n",
    "\n",
    "# load project\n",
    "project = Project.get_by_name(client, PROJECT_NAME)\n",
    "project_location = project.pull(location='./data', format='yolov8')"
   ],
   "metadata": {
    "collapsed": false
   }
  },
  {
   "cell_type": "code",
   "execution_count": null,
   "outputs": [],
   "source": [
    "# Train yolo model\n",
    "!yolo task=segment mode=train model=$MODEL data=\"{project_location}/dataset.yaml\" epochs=$N_EPOCHS imgsz=$IM_SIZE batch=$BATCH_SIZE"
   ],
   "metadata": {
    "collapsed": false
   }
  },
  {
   "cell_type": "code",
   "execution_count": 4,
   "outputs": [
    {
     "ename": "IndexError",
     "evalue": "list index out of range",
     "output_type": "error",
     "traceback": [
      "\u001B[0;31m---------------------------------------------------------------------------\u001B[0m",
      "\u001B[0;31mIndexError\u001B[0m                                Traceback (most recent call last)",
      "Cell \u001B[0;32mIn[4], line 4\u001B[0m\n\u001B[1;32m      1\u001B[0m \u001B[38;5;66;03m# upload model\u001B[39;00m\n\u001B[1;32m      2\u001B[0m \u001B[38;5;28;01mfrom\u001B[39;00m \u001B[38;5;21;01mtrainyolo\u001B[39;00m\u001B[38;5;21;01m.\u001B[39;00m\u001B[38;5;21;01mutils\u001B[39;00m\u001B[38;5;21;01m.\u001B[39;00m\u001B[38;5;21;01myolov8\u001B[39;00m \u001B[38;5;28;01mimport\u001B[39;00m upload_yolov8_run\n\u001B[0;32m----> 4\u001B[0m \u001B[43mupload_yolov8_run\u001B[49m\u001B[43m(\u001B[49m\u001B[43mproject\u001B[49m\u001B[43m,\u001B[49m\u001B[43m \u001B[49m\u001B[43mmode\u001B[49m\u001B[38;5;241;43m=\u001B[39;49m\u001B[38;5;124;43m'\u001B[39;49m\u001B[38;5;124;43msegment\u001B[39;49m\u001B[38;5;124;43m'\u001B[39;49m\u001B[43m,\u001B[49m\u001B[43m \u001B[49m\u001B[43miou\u001B[49m\u001B[38;5;241;43m=\u001B[39;49m\u001B[38;5;241;43m0.45\u001B[39;49m\u001B[43m)\u001B[49m\n",
      "File \u001B[0;32m~/repositories/sparkworks/project-leeaf/venv/lib/python3.10/site-packages/trainyolo/utils/yolov8.py:135\u001B[0m, in \u001B[0;36mupload_yolov8_run\u001B[0;34m(project, mode, run_location, run, weights, conf, iou)\u001B[0m\n\u001B[1;32m    133\u001B[0m     convert \u001B[38;5;241m=\u001B[39m \u001B[38;5;28;01mlambda\u001B[39;00m text: \u001B[38;5;28mint\u001B[39m(text) \u001B[38;5;28;01mif\u001B[39;00m text\u001B[38;5;241m.\u001B[39misdigit() \u001B[38;5;28;01melse\u001B[39;00m text\u001B[38;5;241m.\u001B[39mlower()\n\u001B[1;32m    134\u001B[0m     alphanum_key \u001B[38;5;241m=\u001B[39m \u001B[38;5;28;01mlambda\u001B[39;00m key: [convert(c) \u001B[38;5;28;01mfor\u001B[39;00m c \u001B[38;5;129;01min\u001B[39;00m re\u001B[38;5;241m.\u001B[39msplit(\u001B[38;5;124m'\u001B[39m\u001B[38;5;124m([0-9]+)\u001B[39m\u001B[38;5;124m'\u001B[39m, key)]\n\u001B[0;32m--> 135\u001B[0m     exp_path \u001B[38;5;241m=\u001B[39m \u001B[38;5;28;43msorted\u001B[39;49m\u001B[43m(\u001B[49m\u001B[43mexp_paths\u001B[49m\u001B[43m,\u001B[49m\u001B[43m \u001B[49m\u001B[43mkey\u001B[49m\u001B[38;5;241;43m=\u001B[39;49m\u001B[43malphanum_key\u001B[49m\u001B[43m)\u001B[49m\u001B[43m[\u001B[49m\u001B[38;5;241;43m-\u001B[39;49m\u001B[38;5;241;43m1\u001B[39;49m\u001B[43m]\u001B[49m\n\u001B[1;32m    136\u001B[0m \u001B[38;5;28;01melse\u001B[39;00m:\n\u001B[1;32m    137\u001B[0m     exp_path \u001B[38;5;241m=\u001B[39m os\u001B[38;5;241m.\u001B[39mpath\u001B[38;5;241m.\u001B[39mjoin(run_location, run)\n",
      "\u001B[0;31mIndexError\u001B[0m: list index out of range"
     ]
    }
   ],
   "source": [
    "# upload model\n",
    "from trainyolo.utils.yolov8 import upload_yolov8_run\n",
    "\n",
    "upload_yolov8_run(project, mode='segment', iou=0.45)\n"
   ],
   "metadata": {
    "collapsed": false,
    "ExecuteTime": {
     "end_time": "2023-05-29T11:00:57.939493Z",
     "start_time": "2023-05-29T11:00:57.753179Z"
    }
   }
  }
 ],
 "metadata": {
  "kernelspec": {
   "display_name": "Python 3",
   "language": "python",
   "name": "python3"
  },
  "language_info": {
   "codemirror_mode": {
    "name": "ipython",
    "version": 2
   },
   "file_extension": ".py",
   "mimetype": "text/x-python",
   "name": "python",
   "nbconvert_exporter": "python",
   "pygments_lexer": "ipython2",
   "version": "2.7.6"
  }
 },
 "nbformat": 4,
 "nbformat_minor": 0
}
